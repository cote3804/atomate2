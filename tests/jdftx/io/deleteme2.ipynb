{
 "cells": [
  {
   "cell_type": "code",
   "execution_count": 1,
   "metadata": {},
   "outputs": [
    {
     "name": "stderr",
     "output_type": "stream",
     "text": [
      "\n",
      "A module that was compiled using NumPy 1.x cannot be run in\n",
      "NumPy 2.1.0 as it may crash. To support both 1.x and 2.x\n",
      "versions of NumPy, modules must be compiled with NumPy 2.0.\n",
      "Some module may need to rebuild instead e.g. with 'pybind11>=2.12'.\n",
      "\n",
      "If you are a user of the module, the easiest solution will be to\n",
      "downgrade to 'numpy<2' or try to upgrade the affected module.\n",
      "We expect that some modules will need time to support NumPy 2.\n",
      "\n",
      "Traceback (most recent call last):  File \"<frozen runpy>\", line 198, in _run_module_as_main\n",
      "  File \"<frozen runpy>\", line 88, in _run_code\n",
      "  File \"/Users/richb/anaconda3/envs/dev3_atomate2/lib/python3.12/site-packages/ipykernel_launcher.py\", line 18, in <module>\n",
      "    app.launch_new_instance()\n",
      "  File \"/Users/richb/anaconda3/envs/dev3_atomate2/lib/python3.12/site-packages/traitlets/config/application.py\", line 1075, in launch_instance\n",
      "    app.start()\n",
      "  File \"/Users/richb/anaconda3/envs/dev3_atomate2/lib/python3.12/site-packages/ipykernel/kernelapp.py\", line 739, in start\n",
      "    self.io_loop.start()\n",
      "  File \"/Users/richb/anaconda3/envs/dev3_atomate2/lib/python3.12/site-packages/tornado/platform/asyncio.py\", line 205, in start\n",
      "    self.asyncio_loop.run_forever()\n",
      "  File \"/Users/richb/anaconda3/envs/dev3_atomate2/lib/python3.12/asyncio/base_events.py\", line 641, in run_forever\n",
      "    self._run_once()\n",
      "  File \"/Users/richb/anaconda3/envs/dev3_atomate2/lib/python3.12/asyncio/base_events.py\", line 1987, in _run_once\n",
      "    handle._run()\n",
      "  File \"/Users/richb/anaconda3/envs/dev3_atomate2/lib/python3.12/asyncio/events.py\", line 88, in _run\n",
      "    self._context.run(self._callback, *self._args)\n",
      "  File \"/Users/richb/anaconda3/envs/dev3_atomate2/lib/python3.12/site-packages/ipykernel/kernelbase.py\", line 545, in dispatch_queue\n",
      "    await self.process_one()\n",
      "  File \"/Users/richb/anaconda3/envs/dev3_atomate2/lib/python3.12/site-packages/ipykernel/kernelbase.py\", line 534, in process_one\n",
      "    await dispatch(*args)\n",
      "  File \"/Users/richb/anaconda3/envs/dev3_atomate2/lib/python3.12/site-packages/ipykernel/kernelbase.py\", line 437, in dispatch_shell\n",
      "    await result\n",
      "  File \"/Users/richb/anaconda3/envs/dev3_atomate2/lib/python3.12/site-packages/ipykernel/ipkernel.py\", line 362, in execute_request\n",
      "    await super().execute_request(stream, ident, parent)\n",
      "  File \"/Users/richb/anaconda3/envs/dev3_atomate2/lib/python3.12/site-packages/ipykernel/kernelbase.py\", line 778, in execute_request\n",
      "    reply_content = await reply_content\n",
      "  File \"/Users/richb/anaconda3/envs/dev3_atomate2/lib/python3.12/site-packages/ipykernel/ipkernel.py\", line 449, in do_execute\n",
      "    res = shell.run_cell(\n",
      "  File \"/Users/richb/anaconda3/envs/dev3_atomate2/lib/python3.12/site-packages/ipykernel/zmqshell.py\", line 549, in run_cell\n",
      "    return super().run_cell(*args, **kwargs)\n",
      "  File \"/Users/richb/anaconda3/envs/dev3_atomate2/lib/python3.12/site-packages/IPython/core/interactiveshell.py\", line 3075, in run_cell\n",
      "    result = self._run_cell(\n",
      "  File \"/Users/richb/anaconda3/envs/dev3_atomate2/lib/python3.12/site-packages/IPython/core/interactiveshell.py\", line 3130, in _run_cell\n",
      "    result = runner(coro)\n",
      "  File \"/Users/richb/anaconda3/envs/dev3_atomate2/lib/python3.12/site-packages/IPython/core/async_helpers.py\", line 128, in _pseudo_sync_runner\n",
      "    coro.send(None)\n",
      "  File \"/Users/richb/anaconda3/envs/dev3_atomate2/lib/python3.12/site-packages/IPython/core/interactiveshell.py\", line 3334, in run_cell_async\n",
      "    has_raised = await self.run_ast_nodes(code_ast.body, cell_name,\n",
      "  File \"/Users/richb/anaconda3/envs/dev3_atomate2/lib/python3.12/site-packages/IPython/core/interactiveshell.py\", line 3517, in run_ast_nodes\n",
      "    if await self.run_code(code, result, async_=asy):\n",
      "  File \"/Users/richb/anaconda3/envs/dev3_atomate2/lib/python3.12/site-packages/IPython/core/interactiveshell.py\", line 3577, in run_code\n",
      "    exec(code_obj, self.user_global_ns, self.user_ns)\n",
      "  File \"/var/folders/v3/dhcqls6s33s55hmm47b0wr500000gn/T/ipykernel_99679/128994231.py\", line 1, in <module>\n",
      "    from pymatgen.io.jdftx.jdftxinfile import JDFTXInfile\n",
      "  File \"/Users/richb/vs/atomate2/src/atomate2/__init__.py\", line 6, in <module>\n",
      "    SETTINGS = Atomate2Settings()\n",
      "  File \"/Users/richb/anaconda3/envs/dev3_atomate2/lib/python3.12/site-packages/pydantic_settings/main.py\", line 144, in __init__\n",
      "    super().__init__(\n",
      "  File \"/Users/richb/anaconda3/envs/dev3_atomate2/lib/python3.12/site-packages/pydantic/main.py\", line 193, in __init__\n",
      "    self.__pydantic_validator__.validate_python(data, self_instance=self)\n",
      "  File \"/Users/richb/vs/atomate2/src/atomate2/settings.py\", line 256, in load_default_settings\n",
      "    from monty.serialization import loadfn\n",
      "  File \"/Users/richb/anaconda3/envs/dev3_atomate2/lib/python3.12/site-packages/monty/serialization.py\", line 18, in <module>\n",
      "    from monty.json import MontyDecoder, MontyEncoder\n",
      "  File \"/Users/richb/anaconda3/envs/dev3_atomate2/lib/python3.12/site-packages/monty/json.py\", line 56, in <module>\n",
      "    import torch\n",
      "  File \"/Users/richb/anaconda3/envs/dev3_atomate2/lib/python3.12/site-packages/torch/__init__.py\", line 1477, in <module>\n",
      "    from .functional import *  # noqa: F403\n",
      "  File \"/Users/richb/anaconda3/envs/dev3_atomate2/lib/python3.12/site-packages/torch/functional.py\", line 9, in <module>\n",
      "    import torch.nn.functional as F\n",
      "  File \"/Users/richb/anaconda3/envs/dev3_atomate2/lib/python3.12/site-packages/torch/nn/__init__.py\", line 1, in <module>\n",
      "    from .modules import *  # noqa: F403\n",
      "  File \"/Users/richb/anaconda3/envs/dev3_atomate2/lib/python3.12/site-packages/torch/nn/modules/__init__.py\", line 35, in <module>\n",
      "    from .transformer import TransformerEncoder, TransformerDecoder, \\\n",
      "  File \"/Users/richb/anaconda3/envs/dev3_atomate2/lib/python3.12/site-packages/torch/nn/modules/transformer.py\", line 20, in <module>\n",
      "    device: torch.device = torch.device(torch._C._get_default_device()),  # torch.device('cpu'),\n",
      "/Users/richb/anaconda3/envs/dev3_atomate2/lib/python3.12/site-packages/torch/nn/modules/transformer.py:20: UserWarning: Failed to initialize NumPy: _ARRAY_API not found (Triggered internally at /Users/runner/work/pytorch/pytorch/pytorch/torch/csrc/utils/tensor_numpy.cpp:84.)\n",
      "  device: torch.device = torch.device(torch._C._get_default_device()),  # torch.device('cpu'),\n"
     ]
    }
   ],
   "source": [
    "from pymatgen.io.jdftx.jdftxinfile import JDFTXInfile"
   ]
  },
  {
   "cell_type": "code",
   "execution_count": 2,
   "metadata": {},
   "outputs": [
    {
     "name": "stdout",
     "output_type": "stream",
     "text": [
      "True\n",
      "/Users/richb/vs/atomate2/tests/jdftx/io/example_files\n"
     ]
    }
   ],
   "source": [
    "from pathlib import Path\n",
    "from os import getcwd\n",
    "\n",
    "ex_files_dir = Path(getcwd())/ \"example_files\"\n",
    "ex_input_fname = ex_files_dir / \"input-simple1.in\"\n",
    "print(Path(ex_input_fname).exists())\n",
    "print(Path(ex_input_fname).parents[0])\n",
    "# ex_outslice1 = []\n",
    "# with open(ex_outslice_fname1) as f:\n",
    "#     for line in f:\n",
    "#         ex_outslice1.append(line)\n",
    "\n",
    "joss = JDFTXInfile.from_file(ex_input_fname)"
   ]
  },
  {
   "cell_type": "code",
   "execution_count": 4,
   "metadata": {},
   "outputs": [
    {
     "name": "stdout",
     "output_type": "stream",
     "text": [
      "here\n",
      "lattice \\\n",
      "    10.000000000000  0.500000000000  0.000000000000 \\\n",
      "     0.000000000000 11.000000000000  0.000000000000 \\\n",
      "     0.000000000000  1.000000000000 12.000000000000  \n",
      "ion C  0.500000000000  0.500000000000  0.600000000000 v  0.100000000000  0.200000000000  0.300000000000  0  \n",
      "ion C  0.500000000000  0.500000000000  0.900000000000 v  0.100000000000  0.200000000000  0.300000000000  0  \n",
      "ion O  0.200000000000  0.300000000000  0.400000000000 v  0.700000000000  0.800000000000  0.900000000000  1  \n",
      "ion F  0.000000000000  0.010000000000  0.020000000000 v  0.990000000000  0.990000000000  0.990000000000  0  \n",
      "ion C  0.100000000000  0.500000000000  0.600000000000 v  0.100000000000  0.200000000000  0.300000000000  0  \n",
      "\n",
      "symmetry-matrix \\\n",
      "    1 0 0 \\\n",
      "    0 1 0 \\\n",
      "    0 0 1 \\\n",
      "     0.000000000000  0.000000000000  0.000000000000  \n",
      "symmetry-matrix \\\n",
      "    1 0 0 \\\n",
      "    0 -1 0 \\\n",
      "    0 1 -1 \\\n",
      "     0.500000000000  0.500000000000  0.500000000000  \n",
      "\n",
      "elec-cutoff 30.0 100.0  \n",
      "elec-n-bands 34 \n",
      "spintype no-spin \n",
      "converge-empty-states yes \n",
      "\n",
      "electronic-scf \\\n",
      "    nIterations 100 \\\n",
      "    verbose yes  \n",
      "\n",
      "dump-only \n",
      "dump End State   \n",
      "dump End BandEigs   \n",
      "\n",
      "\n"
     ]
    }
   ],
   "source": [
    "print(joss)"
   ]
  },
  {
   "cell_type": "code",
   "execution_count": 4,
   "metadata": {},
   "outputs": [
    {
     "ename": "TypeError",
     "evalue": "Trajectory.__init__() missing 2 required positional arguments: 'species' and 'coords'",
     "output_type": "error",
     "traceback": [
      "\u001b[0;31m---------------------------------------------------------------------------\u001b[0m",
      "\u001b[0;31mTypeError\u001b[0m                                 Traceback (most recent call last)",
      "Cell \u001b[0;32mIn[4], line 1\u001b[0m\n\u001b[0;32m----> 1\u001b[0m joss \u001b[38;5;241m=\u001b[39m \u001b[43mJOutStructures\u001b[49m\u001b[38;5;241;43m.\u001b[39;49m\u001b[43mfrom_out_slice\u001b[49m\u001b[43m(\u001b[49m\u001b[43mex_outslice1\u001b[49m\u001b[43m,\u001b[49m\u001b[43m \u001b[49m\u001b[43miter_type\u001b[49m\u001b[38;5;241;43m=\u001b[39;49m\u001b[38;5;124;43m\"\u001b[39;49m\u001b[38;5;124;43mLatticeMinimize\u001b[39;49m\u001b[38;5;124;43m\"\u001b[39;49m\u001b[43m)\u001b[49m\n",
      "Cell \u001b[0;32mIn[1], line 37\u001b[0m, in \u001b[0;36mJOutStructures.from_out_slice\u001b[0;34m(cls, out_slice, iter_type)\u001b[0m\n\u001b[1;32m     26\u001b[0m \u001b[38;5;129m@classmethod\u001b[39m\n\u001b[1;32m     27\u001b[0m \u001b[38;5;28;01mdef\u001b[39;00m \u001b[38;5;21mfrom_out_slice\u001b[39m(\u001b[38;5;28mcls\u001b[39m, out_slice: \u001b[38;5;28mlist\u001b[39m[\u001b[38;5;28mstr\u001b[39m], iter_type: \u001b[38;5;28mstr\u001b[39m \u001b[38;5;241m=\u001b[39m \u001b[38;5;124m\"\u001b[39m\u001b[38;5;124mIonicMinimize\u001b[39m\u001b[38;5;124m\"\u001b[39m):\n\u001b[1;32m     28\u001b[0m \u001b[38;5;250m    \u001b[39m\u001b[38;5;124;03m\"\"\"\u001b[39;00m\n\u001b[1;32m     29\u001b[0m \u001b[38;5;124;03m    Create a JStructures object from a slice of an out file's text corresponding\u001b[39;00m\n\u001b[1;32m     30\u001b[0m \u001b[38;5;124;03m    to a single JDFTx call\u001b[39;00m\n\u001b[0;32m   (...)\u001b[0m\n\u001b[1;32m     35\u001b[0m \u001b[38;5;124;03m        A slice of a JDFTx out file (individual call of JDFTx)\u001b[39;00m\n\u001b[1;32m     36\u001b[0m \u001b[38;5;124;03m    \"\"\"\u001b[39;00m\n\u001b[0;32m---> 37\u001b[0m     instance \u001b[38;5;241m=\u001b[39m \u001b[38;5;28;43mcls\u001b[39;49m\u001b[43m(\u001b[49m\u001b[43m)\u001b[49m\n\u001b[1;32m     38\u001b[0m     \u001b[38;5;28;01mif\u001b[39;00m iter_type \u001b[38;5;129;01mnot\u001b[39;00m \u001b[38;5;129;01min\u001b[39;00m [\u001b[38;5;124m\"\u001b[39m\u001b[38;5;124mIonicMinimize\u001b[39m\u001b[38;5;124m\"\u001b[39m, \u001b[38;5;124m\"\u001b[39m\u001b[38;5;124mLatticeMinimize\u001b[39m\u001b[38;5;124m\"\u001b[39m]:\n\u001b[1;32m     39\u001b[0m         iter_type \u001b[38;5;241m=\u001b[39m correct_iter_type(iter_type)\n",
      "Cell \u001b[0;32mIn[1], line 23\u001b[0m, in \u001b[0;36mJOutStructures.__init__\u001b[0;34m(self, *args, **kwargs)\u001b[0m\n\u001b[1;32m     22\u001b[0m \u001b[38;5;28;01mdef\u001b[39;00m \u001b[38;5;21m__init__\u001b[39m(\u001b[38;5;28mself\u001b[39m, \u001b[38;5;241m*\u001b[39margs: Any, \u001b[38;5;241m*\u001b[39m\u001b[38;5;241m*\u001b[39mkwargs: Any):\n\u001b[0;32m---> 23\u001b[0m     \u001b[38;5;28;43msuper\u001b[39;49m\u001b[43m(\u001b[49m\u001b[43m)\u001b[49m\u001b[38;5;241;43m.\u001b[39;49m\u001b[38;5;21;43m__init__\u001b[39;49m\u001b[43m(\u001b[49m\u001b[38;5;241;43m*\u001b[39;49m\u001b[43margs\u001b[49m\u001b[43m,\u001b[49m\u001b[43m \u001b[49m\u001b[38;5;241;43m*\u001b[39;49m\u001b[38;5;241;43m*\u001b[39;49m\u001b[43mkwargs\u001b[49m\u001b[43m)\u001b[49m\n\u001b[1;32m     24\u001b[0m     \u001b[38;5;28mself\u001b[39m\u001b[38;5;241m.\u001b[39m_t_s \u001b[38;5;241m=\u001b[39m \u001b[38;5;28;01mNone\u001b[39;00m\n",
      "\u001b[0;31mTypeError\u001b[0m: Trajectory.__init__() missing 2 required positional arguments: 'species' and 'coords'"
     ]
    }
   ],
   "source": [
    "joss = JOutStructures.from_out_slice(ex_outslice1, iter_type=\"LatticeMinimize\")"
   ]
  },
  {
   "cell_type": "code",
   "execution_count": null,
   "metadata": {},
   "outputs": [],
   "source": []
  }
 ],
 "metadata": {
  "kernelspec": {
   "display_name": "dev3_atomate2",
   "language": "python",
   "name": "python3"
  },
  "language_info": {
   "codemirror_mode": {
    "name": "ipython",
    "version": 3
   },
   "file_extension": ".py",
   "mimetype": "text/x-python",
   "name": "python",
   "nbconvert_exporter": "python",
   "pygments_lexer": "ipython3",
   "version": "3.12.4"
  }
 },
 "nbformat": 4,
 "nbformat_minor": 2
}
