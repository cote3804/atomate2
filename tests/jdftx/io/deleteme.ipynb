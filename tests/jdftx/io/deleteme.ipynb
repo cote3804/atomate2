{
 "cells": [
  {
   "cell_type": "code",
   "execution_count": null,
   "metadata": {},
   "outputs": [
    {
     "name": "stderr",
     "output_type": "stream",
     "text": [
      "\n",
      "A module that was compiled using NumPy 1.x cannot be run in\n",
      "NumPy 2.1.0 as it may crash. To support both 1.x and 2.x\n",
      "versions of NumPy, modules must be compiled with NumPy 2.0.\n",
      "Some module may need to rebuild instead e.g. with 'pybind11>=2.12'.\n",
      "\n",
      "If you are a user of the module, the easiest solution will be to\n",
      "downgrade to 'numpy<2' or try to upgrade the affected module.\n",
      "We expect that some modules will need time to support NumPy 2.\n",
      "\n",
      "Traceback (most recent call last):  File \"<frozen runpy>\", line 198, in _run_module_as_main\n",
      "  File \"<frozen runpy>\", line 88, in _run_code\n",
      "  File \"/Users/richb/anaconda3/envs/dev3_atomate2/lib/python3.12/site-packages/ipykernel_launcher.py\", line 18, in <module>\n",
      "    app.launch_new_instance()\n",
      "  File \"/Users/richb/anaconda3/envs/dev3_atomate2/lib/python3.12/site-packages/traitlets/config/application.py\", line 1075, in launch_instance\n",
      "    app.start()\n",
      "  File \"/Users/richb/anaconda3/envs/dev3_atomate2/lib/python3.12/site-packages/ipykernel/kernelapp.py\", line 739, in start\n",
      "    self.io_loop.start()\n",
      "  File \"/Users/richb/anaconda3/envs/dev3_atomate2/lib/python3.12/site-packages/tornado/platform/asyncio.py\", line 205, in start\n",
      "    self.asyncio_loop.run_forever()\n",
      "  File \"/Users/richb/anaconda3/envs/dev3_atomate2/lib/python3.12/asyncio/base_events.py\", line 641, in run_forever\n",
      "    self._run_once()\n",
      "  File \"/Users/richb/anaconda3/envs/dev3_atomate2/lib/python3.12/asyncio/base_events.py\", line 1987, in _run_once\n",
      "    handle._run()\n",
      "  File \"/Users/richb/anaconda3/envs/dev3_atomate2/lib/python3.12/asyncio/events.py\", line 88, in _run\n",
      "    self._context.run(self._callback, *self._args)\n",
      "  File \"/Users/richb/anaconda3/envs/dev3_atomate2/lib/python3.12/site-packages/ipykernel/kernelbase.py\", line 545, in dispatch_queue\n",
      "    await self.process_one()\n",
      "  File \"/Users/richb/anaconda3/envs/dev3_atomate2/lib/python3.12/site-packages/ipykernel/kernelbase.py\", line 534, in process_one\n",
      "    await dispatch(*args)\n",
      "  File \"/Users/richb/anaconda3/envs/dev3_atomate2/lib/python3.12/site-packages/ipykernel/kernelbase.py\", line 437, in dispatch_shell\n",
      "    await result\n",
      "  File \"/Users/richb/anaconda3/envs/dev3_atomate2/lib/python3.12/site-packages/ipykernel/ipkernel.py\", line 362, in execute_request\n",
      "    await super().execute_request(stream, ident, parent)\n",
      "  File \"/Users/richb/anaconda3/envs/dev3_atomate2/lib/python3.12/site-packages/ipykernel/kernelbase.py\", line 778, in execute_request\n",
      "    reply_content = await reply_content\n",
      "  File \"/Users/richb/anaconda3/envs/dev3_atomate2/lib/python3.12/site-packages/ipykernel/ipkernel.py\", line 449, in do_execute\n",
      "    res = shell.run_cell(\n",
      "  File \"/Users/richb/anaconda3/envs/dev3_atomate2/lib/python3.12/site-packages/ipykernel/zmqshell.py\", line 549, in run_cell\n",
      "    return super().run_cell(*args, **kwargs)\n",
      "  File \"/Users/richb/anaconda3/envs/dev3_atomate2/lib/python3.12/site-packages/IPython/core/interactiveshell.py\", line 3075, in run_cell\n",
      "    result = self._run_cell(\n",
      "  File \"/Users/richb/anaconda3/envs/dev3_atomate2/lib/python3.12/site-packages/IPython/core/interactiveshell.py\", line 3130, in _run_cell\n",
      "    result = runner(coro)\n",
      "  File \"/Users/richb/anaconda3/envs/dev3_atomate2/lib/python3.12/site-packages/IPython/core/async_helpers.py\", line 128, in _pseudo_sync_runner\n",
      "    coro.send(None)\n",
      "  File \"/Users/richb/anaconda3/envs/dev3_atomate2/lib/python3.12/site-packages/IPython/core/interactiveshell.py\", line 3334, in run_cell_async\n",
      "    has_raised = await self.run_ast_nodes(code_ast.body, cell_name,\n",
      "  File \"/Users/richb/anaconda3/envs/dev3_atomate2/lib/python3.12/site-packages/IPython/core/interactiveshell.py\", line 3517, in run_ast_nodes\n",
      "    if await self.run_code(code, result, async_=asy):\n",
      "  File \"/Users/richb/anaconda3/envs/dev3_atomate2/lib/python3.12/site-packages/IPython/core/interactiveshell.py\", line 3577, in run_code\n",
      "    exec(code_obj, self.user_global_ns, self.user_ns)\n",
      "  File \"/var/folders/v3/dhcqls6s33s55hmm47b0wr500000gn/T/ipykernel_80319/2655105922.py\", line 2, in <module>\n",
      "    from atomate2.jdftx.io.JDFTXOutfile import JDFTXOutfile\n",
      "  File \"/Users/richb/vs/atomate2/src/atomate2/__init__.py\", line 6, in <module>\n",
      "    SETTINGS = Atomate2Settings()\n",
      "  File \"/Users/richb/anaconda3/envs/dev3_atomate2/lib/python3.12/site-packages/pydantic_settings/main.py\", line 144, in __init__\n",
      "    super().__init__(\n",
      "  File \"/Users/richb/anaconda3/envs/dev3_atomate2/lib/python3.12/site-packages/pydantic/main.py\", line 193, in __init__\n",
      "    self.__pydantic_validator__.validate_python(data, self_instance=self)\n",
      "  File \"/Users/richb/vs/atomate2/src/atomate2/settings.py\", line 256, in load_default_settings\n",
      "    from monty.serialization import loadfn\n",
      "  File \"/Users/richb/anaconda3/envs/dev3_atomate2/lib/python3.12/site-packages/monty/serialization.py\", line 18, in <module>\n",
      "    from monty.json import MontyDecoder, MontyEncoder\n",
      "  File \"/Users/richb/anaconda3/envs/dev3_atomate2/lib/python3.12/site-packages/monty/json.py\", line 56, in <module>\n",
      "    import torch\n",
      "  File \"/Users/richb/anaconda3/envs/dev3_atomate2/lib/python3.12/site-packages/torch/__init__.py\", line 1477, in <module>\n",
      "    from .functional import *  # noqa: F403\n",
      "  File \"/Users/richb/anaconda3/envs/dev3_atomate2/lib/python3.12/site-packages/torch/functional.py\", line 9, in <module>\n",
      "    import torch.nn.functional as F\n",
      "  File \"/Users/richb/anaconda3/envs/dev3_atomate2/lib/python3.12/site-packages/torch/nn/__init__.py\", line 1, in <module>\n",
      "    from .modules import *  # noqa: F403\n",
      "  File \"/Users/richb/anaconda3/envs/dev3_atomate2/lib/python3.12/site-packages/torch/nn/modules/__init__.py\", line 35, in <module>\n",
      "    from .transformer import TransformerEncoder, TransformerDecoder, \\\n",
      "  File \"/Users/richb/anaconda3/envs/dev3_atomate2/lib/python3.12/site-packages/torch/nn/modules/transformer.py\", line 20, in <module>\n",
      "    device: torch.device = torch.device(torch._C._get_default_device()),  # torch.device('cpu'),\n",
      "/Users/richb/anaconda3/envs/dev3_atomate2/lib/python3.12/site-packages/torch/nn/modules/transformer.py:20: UserWarning: Failed to initialize NumPy: _ARRAY_API not found (Triggered internally at /Users/runner/work/pytorch/pytorch/pytorch/torch/csrc/utils/tensor_numpy.cpp:84.)\n",
      "  device: torch.device = torch.device(torch._C._get_default_device()),  # torch.device('cpu'),\n"
     ]
    }
   ],
   "source": [
    "import os\n",
    "from pathlib import Path\n",
    "\n",
    "from pymatgen.core.units import Ha_to_eV\n",
    "\n",
    "from atomate2.jdftx.io.JDFTXInfile import JDFTXInfile\n",
    "from atomate2.jdftx.io.JDFTXOutfile import JDFTXOutfile"
   ]
  },
  {
   "cell_type": "code",
   "execution_count": 7,
   "metadata": {},
   "outputs": [],
   "source": [
    "\n",
    "\n"
   ]
  },
  {
   "cell_type": "code",
   "execution_count": 2,
   "metadata": {},
   "outputs": [
    {
     "name": "stdout",
     "output_type": "stream",
     "text": [
      "here\n",
      "here\n"
     ]
    }
   ],
   "source": [
    "jif = JDFTXInfile.from_file(Path(os.getcwd()) / \"example_files\" / \"example_sp.in\")"
   ]
  },
  {
   "cell_type": "code",
   "execution_count": 8,
   "metadata": {},
   "outputs": [
    {
     "ename": "ValueError",
     "evalue": "The format for fluid-solvent for:\n{'name': 'H2O', 'concentration': 55.338, 'functional': 'ScalarEOS', 'epsBulk': 78.4, 'epsInf': 1.77, 'pMol': 0.92466, 'poleEl': [{'omega0': 15.0, 'gamma0': 7.0, 'A0': 1.0}], 'Pvap': 1.06736e-10, 'Res': 1.42, 'Rvdw': 2.61727, 'sigmaBulk': 4.62e-05, 'tauNuc': 343133.0}\ncould not be determined from the available options! Check your inputs and/or MASTER_TAG_LIST!",
     "output_type": "error",
     "traceback": [
      "\u001b[0;31m---------------------------------------------------------------------------\u001b[0m",
      "\u001b[0;31mValueError\u001b[0m                                Traceback (most recent call last)",
      "Cell \u001b[0;32mIn[8], line 1\u001b[0m\n\u001b[0;32m----> 1\u001b[0m \u001b[43mjif\u001b[49m\u001b[38;5;241;43m.\u001b[39;49m\u001b[43mget_text_list\u001b[49m\u001b[43m(\u001b[49m\u001b[43m)\u001b[49m\n",
      "File \u001b[0;32m~/vs/atomate2/src/atomate2/jdftx/io/JDFTXInfile.py:130\u001b[0m, in \u001b[0;36mJDFTXInfile.get_text_list\u001b[0;34m(self)\u001b[0m\n\u001b[1;32m    124\u001b[0m \u001b[38;5;28;01mif\u001b[39;00m tag_object\u001b[38;5;241m.\u001b[39mcan_repeat \u001b[38;5;129;01mand\u001b[39;00m \u001b[38;5;28misinstance\u001b[39m(self_as_dict[tag], \u001b[38;5;28mlist\u001b[39m):\n\u001b[1;32m    125\u001b[0m     \u001b[38;5;66;03m# if a tag_object.can_repeat, it is assumed that self[tag] is a list\u001b[39;00m\n\u001b[1;32m    126\u001b[0m     \u001b[38;5;66;03m#    the 2nd condition ensures this\u001b[39;00m\n\u001b[1;32m    127\u001b[0m     \u001b[38;5;66;03m# if it is not a list, then the tag will still be printed by the else\u001b[39;00m\n\u001b[1;32m    128\u001b[0m     \u001b[38;5;66;03m#    this could be relevant if someone manually sets the tag the can repeat's value to a non-list\u001b[39;00m\n\u001b[1;32m    129\u001b[0m     \u001b[38;5;28;01mfor\u001b[39;00m entry \u001b[38;5;129;01min\u001b[39;00m self_as_dict[tag]:\n\u001b[0;32m--> 130\u001b[0m         text\u001b[38;5;241m.\u001b[39mappend(\u001b[43mtag_object\u001b[49m\u001b[38;5;241;43m.\u001b[39;49m\u001b[43mwrite\u001b[49m\u001b[43m(\u001b[49m\u001b[43mtag\u001b[49m\u001b[43m,\u001b[49m\u001b[43m \u001b[49m\u001b[43mentry\u001b[49m\u001b[43m)\u001b[49m)\n\u001b[1;32m    131\u001b[0m \u001b[38;5;28;01melse\u001b[39;00m:\n\u001b[1;32m    132\u001b[0m     text\u001b[38;5;241m.\u001b[39mappend(tag_object\u001b[38;5;241m.\u001b[39mwrite(tag, self_as_dict[tag]))\n",
      "File \u001b[0;32m~/vs/atomate2/src/atomate2/jdftx/io/generic_tags.py:642\u001b[0m, in \u001b[0;36mMultiformatTag.write\u001b[0;34m(self, tag, value)\u001b[0m\n\u001b[1;32m    641\u001b[0m \u001b[38;5;28;01mdef\u001b[39;00m \u001b[38;5;21mwrite\u001b[39m(\u001b[38;5;28mself\u001b[39m, tag: \u001b[38;5;28mstr\u001b[39m, value) \u001b[38;5;241m-\u001b[39m\u001b[38;5;241m>\u001b[39m \u001b[38;5;28mstr\u001b[39m:\n\u001b[0;32m--> 642\u001b[0m     format_index, _ \u001b[38;5;241m=\u001b[39m \u001b[38;5;28;43mself\u001b[39;49m\u001b[38;5;241;43m.\u001b[39;49m\u001b[43m_determine_format_option\u001b[49m\u001b[43m(\u001b[49m\u001b[43mtag\u001b[49m\u001b[43m,\u001b[49m\u001b[43m \u001b[49m\u001b[43mvalue\u001b[49m\u001b[43m)\u001b[49m\n\u001b[1;32m    643\u001b[0m     \u001b[38;5;66;03m# print(f'using index of {format_index}')\u001b[39;00m\n\u001b[1;32m    644\u001b[0m     \u001b[38;5;28;01mreturn\u001b[39;00m \u001b[38;5;28mself\u001b[39m\u001b[38;5;241m.\u001b[39mformat_options[format_index]\u001b[38;5;241m.\u001b[39m_write(tag, value)\n",
      "File \u001b[0;32m~/vs/atomate2/src/atomate2/jdftx/io/generic_tags.py:637\u001b[0m, in \u001b[0;36mMultiformatTag._determine_format_option\u001b[0;34m(self, tag, value, try_auto_type_fix)\u001b[0m\n\u001b[1;32m    635\u001b[0m         \u001b[38;5;28;01mpass\u001b[39;00m\n\u001b[1;32m    636\u001b[0m         \u001b[38;5;66;03m# print(f'{tag} option {i} is not it')\u001b[39;00m\n\u001b[0;32m--> 637\u001b[0m \u001b[38;5;28;01mraise\u001b[39;00m \u001b[38;5;167;01mValueError\u001b[39;00m(\n\u001b[1;32m    638\u001b[0m     \u001b[38;5;124mf\u001b[39m\u001b[38;5;124m\"\u001b[39m\u001b[38;5;124mThe format for \u001b[39m\u001b[38;5;132;01m{\u001b[39;00mtag\u001b[38;5;132;01m}\u001b[39;00m\u001b[38;5;124m for:\u001b[39m\u001b[38;5;130;01m\\n\u001b[39;00m\u001b[38;5;132;01m{\u001b[39;00mvalue\u001b[38;5;132;01m}\u001b[39;00m\u001b[38;5;130;01m\\n\u001b[39;00m\u001b[38;5;124mcould not be determined from the available options! Check your inputs and/or MASTER_TAG_LIST!\u001b[39m\u001b[38;5;124m\"\u001b[39m\n\u001b[1;32m    639\u001b[0m )\n",
      "\u001b[0;31mValueError\u001b[0m: The format for fluid-solvent for:\n{'name': 'H2O', 'concentration': 55.338, 'functional': 'ScalarEOS', 'epsBulk': 78.4, 'epsInf': 1.77, 'pMol': 0.92466, 'poleEl': [{'omega0': 15.0, 'gamma0': 7.0, 'A0': 1.0}], 'Pvap': 1.06736e-10, 'Res': 1.42, 'Rvdw': 2.61727, 'sigmaBulk': 4.62e-05, 'tauNuc': 343133.0}\ncould not be determined from the available options! Check your inputs and/or MASTER_TAG_LIST!"
     ]
    }
   ],
   "source": [
    "jif.get_text_list()"
   ]
  },
  {
   "cell_type": "code",
   "execution_count": null,
   "metadata": {},
   "outputs": [],
   "source": [
    "test = JDFTXOutfile.from_file(Path(os.getcwd()) / \"example_files\" / \"example_sp.out\")\n",
    "print(test[-1].jstrucs.iter_type)\n",
    "print(test[-1].t_s)"
   ]
  },
  {
   "cell_type": "code",
   "execution_count": null,
   "metadata": {},
   "outputs": [],
   "source": [
    "from atomate2.jdftx.io.JDFTXInfile_master_format import *"
   ]
  },
  {
   "cell_type": "code",
   "execution_count": null,
   "metadata": {},
   "outputs": [],
   "source": [
    "tag_ex = \"fluid-anion\"\n",
    "\n",
    "instance = JDFTXInfile()\n",
    "lines = [\n",
    "    \"fluid-anion Cl- 0.5\",\n",
    "    \"lattice \\\\\",\n",
    "    \"1.0 0.0 0.0 \\\\\",\n",
    "    \"1.0 0.0 0.0 \\\\\",\n",
    "    \"1.0 0.0 0.0\",\n",
    "    \"latt-move-scale 0 0 0\",\n",
    "    \"ion Cl 0.0 0.0 0.0 1\",\n",
    "    \"ion-species GBRV_v1.5/$ID_pbe_v1.uspp\",\n",
    "]\n",
    "# lines = instance._gather_tags(lines)\n",
    "\n",
    "test = JDFTXInfile.from_str(\"\\n\".join(lines))"
   ]
  }
 ],
 "metadata": {
  "language_info": {
   "codemirror_mode": {
    "name": "ipython",
    "version": 3
   },
   "file_extension": ".py",
   "mimetype": "text/x-python",
   "name": "python",
   "nbconvert_exporter": "python",
   "pygments_lexer": "ipython3",
   "version": "3.12.4"
  }
 },
 "nbformat": 4,
 "nbformat_minor": 2
}
