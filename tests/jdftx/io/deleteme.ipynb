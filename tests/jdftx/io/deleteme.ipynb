{
 "cells": [
  {
   "cell_type": "code",
   "execution_count": null,
   "metadata": {},
   "outputs": [],
   "source": [
    "import os\n",
    "from pathlib import Path\n",
    "\n",
    "from atomate2.jdftx.io.JDFTXInfile import JDFTXInfile\n",
    "from atomate2.jdftx.io.JDFTXOutfile import JDFTXOutfile"
   ]
  },
  {
   "cell_type": "code",
   "execution_count": 4,
   "metadata": {},
   "outputs": [],
   "source": [
    "from typing import Any, List\n",
    "def flatten_list(tag: str, list_of_lists: List[Any]) -> List[Any]:\n",
    "    \"\"\"Flattens list of lists into a single list, then stops\"\"\"\n",
    "    if not isinstance(list_of_lists, list):\n",
    "        raise ValueError(f\"{tag}: You must provide a list to flatten_list()!\")\n",
    "    while any([isinstance(x, list) for x in list_of_lists]):\n",
    "        list_of_lists = sum(list_of_lists, [])\n",
    "    return list_of_lists\n",
    "\n",
    "def flatten_list(tag: str, list_of_lists: List[Any]) -> List[Any]:\n",
    "    \"\"\"Flattens list of lists into a single list, then stops\"\"\"\n",
    "    if not isinstance(list_of_lists, list):\n",
    "        raise ValueError(f\"{tag}: You must provide a list to flatten_list()!\")\n",
    "    flist = []\n",
    "    for v in list_of_lists:\n",
    "        if isinstance(v, list):\n",
    "            flist.extend(flatten_list(tag, v))\n",
    "        else:\n",
    "            flist.append(v)\n",
    "    return flist\n"
   ]
  },
  {
   "cell_type": "code",
   "execution_count": 5,
   "metadata": {},
   "outputs": [
    {
     "data": {
      "text/plain": [
       "[True, True, True, True, True]"
      ]
     },
     "execution_count": 5,
     "metadata": {},
     "output_type": "execute_result"
    }
   ],
   "source": [
    "\n",
    "flatten_list(\"test\", [True, True, [True, True], True])\n"
   ]
  },
  {
   "cell_type": "code",
   "execution_count": 2,
   "metadata": {},
   "outputs": [
    {
     "name": "stdout",
     "output_type": "stream",
     "text": [
      "here\n",
      "here\n"
     ]
    }
   ],
   "source": [
    "jif = JDFTXInfile.from_file(Path(os.getcwd()) / \"example_files\" / \"example_sp.in\")"
   ]
  },
  {
   "cell_type": "code",
   "execution_count": null,
   "metadata": {},
   "outputs": [],
   "source": [
    "jif.get_text_list()"
   ]
  },
  {
   "cell_type": "code",
   "execution_count": null,
   "metadata": {},
   "outputs": [],
   "source": [
    "test = JDFTXOutfile.from_file(Path(os.getcwd()) / \"example_files\" / \"example_sp.out\")\n",
    "print(test[-1].jstrucs.iter_type)\n",
    "print(test[-1].t_s)"
   ]
  },
  {
   "cell_type": "code",
   "execution_count": null,
   "metadata": {},
   "outputs": [],
   "source": [
    "from atomate2.jdftx.io.JDFTXInfile_master_format import *"
   ]
  },
  {
   "cell_type": "code",
   "execution_count": null,
   "metadata": {},
   "outputs": [],
   "source": [
    "tag_ex = \"fluid-anion\"\n",
    "\n",
    "instance = JDFTXInfile()\n",
    "lines = [\n",
    "    \"fluid-anion Cl- 0.5\",\n",
    "    \"lattice \\\\\",\n",
    "    \"1.0 0.0 0.0 \\\\\",\n",
    "    \"1.0 0.0 0.0 \\\\\",\n",
    "    \"1.0 0.0 0.0\",\n",
    "    \"latt-move-scale 0 0 0\",\n",
    "    \"ion Cl 0.0 0.0 0.0 1\",\n",
    "    \"ion-species GBRV_v1.5/$ID_pbe_v1.uspp\",\n",
    "]\n",
    "# lines = instance._gather_tags(lines)\n",
    "\n",
    "test = JDFTXInfile.from_str(\"\\n\".join(lines))"
   ]
  }
 ],
 "metadata": {
  "language_info": {
   "codemirror_mode": {
    "name": "ipython",
    "version": 3
   },
   "file_extension": ".py",
   "mimetype": "text/x-python",
   "name": "python",
   "nbconvert_exporter": "python",
   "pygments_lexer": "ipython3",
   "version": "3.12.4"
  }
 },
 "nbformat": 4,
 "nbformat_minor": 2
}
