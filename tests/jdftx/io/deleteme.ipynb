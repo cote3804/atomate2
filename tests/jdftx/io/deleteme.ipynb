{
 "cells": [
  {
   "cell_type": "code",
   "execution_count": 1,
   "metadata": {},
   "outputs": [
    {
     "name": "stderr",
     "output_type": "stream",
     "text": [
      "\n",
      "A module that was compiled using NumPy 1.x cannot be run in\n",
      "NumPy 2.1.0 as it may crash. To support both 1.x and 2.x\n",
      "versions of NumPy, modules must be compiled with NumPy 2.0.\n",
      "Some module may need to rebuild instead e.g. with 'pybind11>=2.12'.\n",
      "\n",
      "If you are a user of the module, the easiest solution will be to\n",
      "downgrade to 'numpy<2' or try to upgrade the affected module.\n",
      "We expect that some modules will need time to support NumPy 2.\n",
      "\n",
      "Traceback (most recent call last):  File \"<frozen runpy>\", line 198, in _run_module_as_main\n",
      "  File \"<frozen runpy>\", line 88, in _run_code\n",
      "  File \"/Users/richb/anaconda3/envs/dev_atomate2/lib/python3.12/site-packages/ipykernel_launcher.py\", line 18, in <module>\n",
      "    app.launch_new_instance()\n",
      "  File \"/Users/richb/anaconda3/envs/dev_atomate2/lib/python3.12/site-packages/traitlets/config/application.py\", line 1075, in launch_instance\n",
      "    app.start()\n",
      "  File \"/Users/richb/anaconda3/envs/dev_atomate2/lib/python3.12/site-packages/ipykernel/kernelapp.py\", line 739, in start\n",
      "    self.io_loop.start()\n",
      "  File \"/Users/richb/anaconda3/envs/dev_atomate2/lib/python3.12/site-packages/tornado/platform/asyncio.py\", line 205, in start\n",
      "    self.asyncio_loop.run_forever()\n",
      "  File \"/Users/richb/anaconda3/envs/dev_atomate2/lib/python3.12/asyncio/base_events.py\", line 641, in run_forever\n",
      "    self._run_once()\n",
      "  File \"/Users/richb/anaconda3/envs/dev_atomate2/lib/python3.12/asyncio/base_events.py\", line 1987, in _run_once\n",
      "    handle._run()\n",
      "  File \"/Users/richb/anaconda3/envs/dev_atomate2/lib/python3.12/asyncio/events.py\", line 88, in _run\n",
      "    self._context.run(self._callback, *self._args)\n",
      "  File \"/Users/richb/anaconda3/envs/dev_atomate2/lib/python3.12/site-packages/ipykernel/kernelbase.py\", line 545, in dispatch_queue\n",
      "    await self.process_one()\n",
      "  File \"/Users/richb/anaconda3/envs/dev_atomate2/lib/python3.12/site-packages/ipykernel/kernelbase.py\", line 534, in process_one\n",
      "    await dispatch(*args)\n",
      "  File \"/Users/richb/anaconda3/envs/dev_atomate2/lib/python3.12/site-packages/ipykernel/kernelbase.py\", line 437, in dispatch_shell\n",
      "    await result\n",
      "  File \"/Users/richb/anaconda3/envs/dev_atomate2/lib/python3.12/site-packages/ipykernel/ipkernel.py\", line 362, in execute_request\n",
      "    await super().execute_request(stream, ident, parent)\n",
      "  File \"/Users/richb/anaconda3/envs/dev_atomate2/lib/python3.12/site-packages/ipykernel/kernelbase.py\", line 778, in execute_request\n",
      "    reply_content = await reply_content\n",
      "  File \"/Users/richb/anaconda3/envs/dev_atomate2/lib/python3.12/site-packages/ipykernel/ipkernel.py\", line 449, in do_execute\n",
      "    res = shell.run_cell(\n",
      "  File \"/Users/richb/anaconda3/envs/dev_atomate2/lib/python3.12/site-packages/ipykernel/zmqshell.py\", line 549, in run_cell\n",
      "    return super().run_cell(*args, **kwargs)\n",
      "  File \"/Users/richb/anaconda3/envs/dev_atomate2/lib/python3.12/site-packages/IPython/core/interactiveshell.py\", line 3075, in run_cell\n",
      "    result = self._run_cell(\n",
      "  File \"/Users/richb/anaconda3/envs/dev_atomate2/lib/python3.12/site-packages/IPython/core/interactiveshell.py\", line 3130, in _run_cell\n",
      "    result = runner(coro)\n",
      "  File \"/Users/richb/anaconda3/envs/dev_atomate2/lib/python3.12/site-packages/IPython/core/async_helpers.py\", line 128, in _pseudo_sync_runner\n",
      "    coro.send(None)\n",
      "  File \"/Users/richb/anaconda3/envs/dev_atomate2/lib/python3.12/site-packages/IPython/core/interactiveshell.py\", line 3334, in run_cell_async\n",
      "    has_raised = await self.run_ast_nodes(code_ast.body, cell_name,\n",
      "  File \"/Users/richb/anaconda3/envs/dev_atomate2/lib/python3.12/site-packages/IPython/core/interactiveshell.py\", line 3517, in run_ast_nodes\n",
      "    if await self.run_code(code, result, async_=asy):\n",
      "  File \"/Users/richb/anaconda3/envs/dev_atomate2/lib/python3.12/site-packages/IPython/core/interactiveshell.py\", line 3577, in run_code\n",
      "    exec(code_obj, self.user_global_ns, self.user_ns)\n",
      "  File \"/var/folders/v3/dhcqls6s33s55hmm47b0wr500000gn/T/ipykernel_30652/2655105922.py\", line 2, in <module>\n",
      "    from atomate2.jdftx.io.JDFTXOutfile import JDFTXOutfile\n",
      "  File \"/Users/richb/vs/atomate2/src/atomate2/__init__.py\", line 6, in <module>\n",
      "    SETTINGS = Atomate2Settings()\n",
      "  File \"/Users/richb/anaconda3/envs/dev_atomate2/lib/python3.12/site-packages/pydantic_settings/main.py\", line 144, in __init__\n",
      "    super().__init__(\n",
      "  File \"/Users/richb/anaconda3/envs/dev_atomate2/lib/python3.12/site-packages/pydantic/main.py\", line 193, in __init__\n",
      "    self.__pydantic_validator__.validate_python(data, self_instance=self)\n",
      "  File \"/Users/richb/vs/atomate2/src/atomate2/settings.py\", line 256, in load_default_settings\n",
      "    from monty.serialization import loadfn\n",
      "  File \"/Users/richb/anaconda3/envs/dev_atomate2/lib/python3.12/site-packages/monty/serialization.py\", line 18, in <module>\n",
      "    from monty.json import MontyDecoder, MontyEncoder\n",
      "  File \"/Users/richb/anaconda3/envs/dev_atomate2/lib/python3.12/site-packages/monty/json.py\", line 56, in <module>\n",
      "    import torch\n",
      "  File \"/Users/richb/anaconda3/envs/dev_atomate2/lib/python3.12/site-packages/torch/__init__.py\", line 1477, in <module>\n",
      "    from .functional import *  # noqa: F403\n",
      "  File \"/Users/richb/anaconda3/envs/dev_atomate2/lib/python3.12/site-packages/torch/functional.py\", line 9, in <module>\n",
      "    import torch.nn.functional as F\n",
      "  File \"/Users/richb/anaconda3/envs/dev_atomate2/lib/python3.12/site-packages/torch/nn/__init__.py\", line 1, in <module>\n",
      "    from .modules import *  # noqa: F403\n",
      "  File \"/Users/richb/anaconda3/envs/dev_atomate2/lib/python3.12/site-packages/torch/nn/modules/__init__.py\", line 35, in <module>\n",
      "    from .transformer import TransformerEncoder, TransformerDecoder, \\\n",
      "  File \"/Users/richb/anaconda3/envs/dev_atomate2/lib/python3.12/site-packages/torch/nn/modules/transformer.py\", line 20, in <module>\n",
      "    device: torch.device = torch.device(torch._C._get_default_device()),  # torch.device('cpu'),\n",
      "/Users/richb/anaconda3/envs/dev_atomate2/lib/python3.12/site-packages/torch/nn/modules/transformer.py:20: UserWarning: Failed to initialize NumPy: _ARRAY_API not found (Triggered internally at /Users/runner/work/pytorch/pytorch/pytorch/torch/csrc/utils/tensor_numpy.cpp:84.)\n",
      "  device: torch.device = torch.device(torch._C._get_default_device()),  # torch.device('cpu'),\n"
     ]
    }
   ],
   "source": [
    "from pathlib import Path\n",
    "from atomate2.jdftx.io.JDFTXOutfile import JDFTXOutfile\n",
    "from atomate2.jdftx.io.JDFTXInfile import JDFTXInfile\n",
    "from pytest import approx\n",
    "import pytest\n",
    "from pymatgen.util.typing import PathLike\n",
    "from pymatgen.core.units import Ha_to_eV\n",
    "import os\n"
   ]
  },
  {
   "cell_type": "code",
   "execution_count": 6,
   "metadata": {},
   "outputs": [],
   "source": [
    "from os import getcwd\n",
    "ex_files_dir = Path(getcwd()) / \"example_files\"\n",
    "\n",
    "ex_infile1_fname = ex_files_dir / \"CO.in\""
   ]
  },
  {
   "cell_type": "code",
   "execution_count": 17,
   "metadata": {},
   "outputs": [],
   "source": [
    "jif = JDFTXInfile.from_file(ex_infile1_fname)\n",
    "djif = jif.as_dict()"
   ]
  },
  {
   "cell_type": "code",
   "execution_count": 18,
   "metadata": {},
   "outputs": [
    {
     "data": {
      "text/plain": [
       "'gga'"
      ]
     },
     "execution_count": 18,
     "metadata": {},
     "output_type": "execute_result"
    }
   ],
   "source": [
    "djif[\"elec-ex-corr\"]"
   ]
  },
  {
   "cell_type": "code",
   "execution_count": 15,
   "metadata": {},
   "outputs": [
    {
     "data": {
      "text/plain": [
       "{'n0': 1, 'n1': 1, 'n2': 1}"
      ]
     },
     "execution_count": 15,
     "metadata": {},
     "output_type": "execute_result"
    }
   ],
   "source": [
    "jif[\"kpoint-folding\"]"
   ]
  },
  {
   "cell_type": "code",
   "execution_count": 16,
   "metadata": {},
   "outputs": [
    {
     "data": {
      "text/plain": [
       "\"{'kpoint-folding': {'n0': 1, 'n1': 1, 'n2': 1}, 'elec-ex-corr': 'gga\\\\n'}\""
      ]
     },
     "execution_count": 16,
     "metadata": {},
     "output_type": "execute_result"
    }
   ],
   "source": [
    "test = {}\n",
    "test[\"kpoint-folding\"] = {\"n0\": 1, \"n1\": 1, \"n2\": 1}\n",
    "test[\"elec-ex-corr\"] = \"gga\\n\"\n",
    "str(test)"
   ]
  },
  {
   "cell_type": "code",
   "execution_count": 20,
   "metadata": {},
   "outputs": [
    {
     "data": {
      "text/plain": [
       "{'latt-move-scale': {'s0': 0.0, 's1': 0.0, 's2': 0.0},\n",
       " 'coords-type': 'Cartesian',\n",
       " 'lattice': {'R00': 18.897261,\n",
       "  'R01': 0.0,\n",
       "  'R02': 0.0,\n",
       "  'R10': 0.0,\n",
       "  'R11': 18.897261,\n",
       "  'R12': 0.0,\n",
       "  'R20': 0.0,\n",
       "  'R21': 0.0,\n",
       "  'R22': 18.897261},\n",
       " 'ion': [{'species-id': 'O',\n",
       "   'x0': -0.235981,\n",
       "   'x1': -0.237621,\n",
       "   'x2': 2.24258,\n",
       "   'moveScale': 1},\n",
       "  {'species-id': 'C',\n",
       "   'x0': -0.011521,\n",
       "   'x1': -0.0116,\n",
       "   'x2': 0.109935,\n",
       "   'moveScale': 1}],\n",
       " 'core-overlap-check': 'none',\n",
       " 'ion-species': ['GBRV_v1.5/$ID_pbe_v1.uspp'],\n",
       " 'symmetries': 'none',\n",
       " 'kpoint-folding': {'n0': 1, 'n1': 1, 'n2': 1},\n",
       " 'elec-ex-corr': 'gga',\n",
       " 'van-der-waals': 'D3',\n",
       " 'elec-cutoff': {'Ecut': 20.0, 'EcutRho': 100.0},\n",
       " 'elec-smearing': {'smearingType': 'Fermi', 'smearingWidth': 0.001},\n",
       " 'elec-n-bands': 15,\n",
       " 'spintype': 'z-spin',\n",
       " 'converge-empty-states': True,\n",
       " 'coulomb-interaction': {'truncationType': 'Periodic'},\n",
       " 'initial-state': '$VAR',\n",
       " 'electronic-minimize': {'energyDiffThreshold': 1e-07, 'nIterations': 100},\n",
       " 'fluid': {'type': 'LinearPCM'},\n",
       " 'fluid-solvent': [{'name': 'H2O'}],\n",
       " 'fluid-anion': {'name': 'F-', 'concentration': 0.5},\n",
       " 'fluid-cation': {'name': 'Na+', 'concentration': 0.5},\n",
       " 'pcm-variant': 'CANDLE',\n",
       " 'vibrations': {'useConstraints': False, 'rotationSym': False},\n",
       " 'dump-name': '$VAR',\n",
       " 'dump': [{'freq': 'End', 'var': 'Dtot'},\n",
       "  {'freq': 'End', 'var': 'BoundCharge'},\n",
       "  {'freq': 'End', 'var': 'State'},\n",
       "  {'freq': 'End', 'var': 'Forces'},\n",
       "  {'freq': 'End', 'var': 'Ecomponents'},\n",
       "  {'freq': 'End', 'var': 'VfluidTot'},\n",
       "  {'freq': 'End', 'var': 'ElecDensity'},\n",
       "  {'freq': 'End', 'var': 'KEdensity'},\n",
       "  {'freq': 'End', 'var': 'EigStats'},\n",
       "  {'freq': 'End', 'var': 'BandEigs'},\n",
       "  {'freq': 'End', 'var': 'DOS'},\n",
       "  {'freq': 'End', 'var': 'Forces'},\n",
       "  {'freq': 'End', 'var': 'Ecomponents'}]}"
      ]
     },
     "execution_count": 20,
     "metadata": {},
     "output_type": "execute_result"
    }
   ],
   "source": [
    "jif.get_dict_representation(jif)"
   ]
  },
  {
   "cell_type": "code",
   "execution_count": 21,
   "metadata": {},
   "outputs": [
    {
     "data": {
      "text/plain": [
       "{'latt-move-scale': [0.0, 0.0, 0.0],\n",
       " 'coords-type': 'Cartesian',\n",
       " 'lattice': [[18.897261, 0.0, 0.0],\n",
       "  [0.0, 18.897261, 0.0],\n",
       "  [0.0, 0.0, 18.897261]],\n",
       " 'ion': [['O', -0.235981, -0.237621, 2.24258, 1],\n",
       "  ['C', -0.011521, -0.0116, 0.109935, 1]],\n",
       " 'core-overlap-check': 'none',\n",
       " 'ion-species': ['GBRV_v1.5/$ID_pbe_v1.uspp'],\n",
       " 'symmetries': 'none',\n",
       " 'kpoint-folding': [1, 1, 1],\n",
       " 'elec-ex-corr': 'gga',\n",
       " 'van-der-waals': 'D3',\n",
       " 'elec-cutoff': [20.0, 100.0],\n",
       " 'elec-smearing': ['Fermi', 0.001],\n",
       " 'elec-n-bands': 15,\n",
       " 'spintype': 'z-spin',\n",
       " 'converge-empty-states': True,\n",
       " 'coulomb-interaction': {'truncationType': 'Periodic'},\n",
       " 'initial-state': '$VAR',\n",
       " 'electronic-minimize': {'energyDiffThreshold': 1e-07, 'nIterations': 100},\n",
       " 'fluid': {'type': 'LinearPCM'},\n",
       " 'fluid-solvent': [{'name': 'H2O'}],\n",
       " 'fluid-anion': {'name': 'F-', 'concentration': 0.5},\n",
       " 'fluid-cation': {'name': 'Na+', 'concentration': 0.5},\n",
       " 'pcm-variant': 'CANDLE',\n",
       " 'vibrations': {'useConstraints': False, 'rotationSym': False},\n",
       " 'dump-name': '$VAR',\n",
       " 'dump': [{'freq': 'End', 'var': 'Dtot'},\n",
       "  {'freq': 'End', 'var': 'BoundCharge'},\n",
       "  {'freq': 'End', 'var': 'State'},\n",
       "  {'freq': 'End', 'var': 'Forces'},\n",
       "  {'freq': 'End', 'var': 'Ecomponents'},\n",
       "  {'freq': 'End', 'var': 'VfluidTot'},\n",
       "  {'freq': 'End', 'var': 'ElecDensity'},\n",
       "  {'freq': 'End', 'var': 'KEdensity'},\n",
       "  {'freq': 'End', 'var': 'EigStats'},\n",
       "  {'freq': 'End', 'var': 'BandEigs'},\n",
       "  {'freq': 'End', 'var': 'DOS'},\n",
       "  {'freq': 'End', 'var': 'Forces'},\n",
       "  {'freq': 'End', 'var': 'Ecomponents'}]}"
      ]
     },
     "execution_count": 21,
     "metadata": {},
     "output_type": "execute_result"
    }
   ],
   "source": [
    "jif.get_list_representation(jif)"
   ]
  },
  {
   "cell_type": "code",
   "execution_count": 19,
   "metadata": {},
   "outputs": [
    {
     "data": {
      "text/plain": [
       "['latt-move-scale 0.0 0.0 0.0  ',\n",
       " 'coords-type Cartesian ',\n",
       " 'lattice \\\\\\n    18.897261000000  0.000000000000  0.000000000000 \\\\\\n     0.000000000000 18.897261000000  0.000000000000 \\\\\\n     0.000000000000  0.000000000000 18.897261000000  ',\n",
       " 'ion O -0.235981000000 -0.237621000000  2.242580000000 1  ',\n",
       " 'ion C -0.011521000000 -0.011600000000  0.109935000000 1  ',\n",
       " 'core-overlap-check none ',\n",
       " 'ion-species GBRV_v1.5/$ID_pbe_v1.uspp ',\n",
       " '',\n",
       " 'symmetries none ',\n",
       " '',\n",
       " 'kpoint-folding 1 1 1  ',\n",
       " '',\n",
       " 'gga ',\n",
       " 'van-der-waals D3 ',\n",
       " 'elec-cutoff 20.0 100.0  ',\n",
       " 'elec-smearing Fermi 0.001  ',\n",
       " 'elec-n-bands 15 ',\n",
       " 'spintype z-spin ',\n",
       " 'converge-empty-states yes ',\n",
       " '',\n",
       " \"coulomb-interaction {'truncationType': 'Periodic'} \",\n",
       " '',\n",
       " 'initial-state $VAR ',\n",
       " '',\n",
       " 'electronic-minimize \\\\\\n    energyDiffThreshold 1e-07 \\\\\\n    nIterations 100  ',\n",
       " '',\n",
       " 'fluid LinearPCM  ',\n",
       " \"fluid-solvent {'name': 'H2O'} \",\n",
       " 'fluid-anion F- 0.5  ',\n",
       " 'fluid-cation Na+ 0.5  ',\n",
       " 'pcm-variant CANDLE ',\n",
       " '',\n",
       " 'vibrations useConstraints no rotationSym no  ',\n",
       " '',\n",
       " 'dump-name $VAR ',\n",
       " 'dump End Dtot  ',\n",
       " 'dump End BoundCharge  ',\n",
       " 'dump End State  ',\n",
       " 'dump End Forces  ',\n",
       " 'dump End Ecomponents  ',\n",
       " 'dump End VfluidTot  ',\n",
       " 'dump End ElecDensity  ',\n",
       " 'dump End KEdensity  ',\n",
       " 'dump End EigStats  ',\n",
       " 'dump End BandEigs  ',\n",
       " 'dump End DOS  ',\n",
       " 'dump End Forces  ',\n",
       " 'dump End Ecomponents  ',\n",
       " '']"
      ]
     },
     "execution_count": 19,
     "metadata": {},
     "output_type": "execute_result"
    }
   ],
   "source": [
    "jif.get_text_list()"
   ]
  },
  {
   "cell_type": "code",
   "execution_count": 11,
   "metadata": {},
   "outputs": [
    {
     "name": "stdout",
     "output_type": "stream",
     "text": [
      "latt-move-scale 0.0 0.0 0.0  \n",
      "coords-type Cartesian \n",
      "lattice \\\n",
      "    18.897261000000  0.000000000000  0.000000000000 \\\n",
      "     0.000000000000 18.897261000000  0.000000000000 \\\n",
      "     0.000000000000  0.000000000000 18.897261000000  \n",
      "ion O -0.235981000000 -0.237621000000  2.242580000000 1  \n",
      "ion C -0.011521000000 -0.011600000000  0.109935000000 1  \n",
      "core-overlap-check none \n",
      "ion-species GBRV_v1.5/$ID_pbe_v1.uspp \n",
      "\n",
      "symmetries none \n",
      "\n",
      "kpoint-folding 1 1 1  \n",
      "\n",
      "gga \n",
      "van-der-waals D3 \n",
      "elec-cutoff 20.0 100.0  \n",
      "elec-smearing Fermi 0.001  \n",
      "elec-n-bands 15 \n",
      "spintype z-spin \n",
      "converge-empty-states yes \n",
      "\n",
      "coulomb-interaction {'truncationType': 'Periodic'} \n",
      "\n",
      "initial-state $VAR \n",
      "\n",
      "electronic-minimize \\\n",
      "    energyDiffThreshold 1e-07 \\\n",
      "    nIterations 100  \n",
      "\n",
      "fluid LinearPCM  \n",
      "fluid-solvent {'name': 'H2O'} \n",
      "fluid-anion F- 0.5  \n",
      "fluid-cation Na+ 0.5  \n",
      "pcm-variant CANDLE \n",
      "\n",
      "vibrations useConstraints no rotationSym no  \n",
      "\n",
      "dump-name $VAR \n",
      "dump End Dtot  \n",
      "dump End BoundCharge  \n",
      "dump End State  \n",
      "dump End Forces  \n",
      "dump End Ecomponents  \n",
      "dump End VfluidTot  \n",
      "dump End ElecDensity  \n",
      "dump End KEdensity  \n",
      "dump End EigStats  \n",
      "dump End BandEigs  \n",
      "dump End DOS  \n",
      "dump End Forces  \n",
      "dump End Ecomponents  \n",
      "\n",
      "\n"
     ]
    }
   ],
   "source": [
    "print(rf'{str(jif)}')"
   ]
  },
  {
   "cell_type": "code",
   "execution_count": null,
   "metadata": {},
   "outputs": [],
   "source": []
  }
 ],
 "metadata": {
  "kernelspec": {
   "display_name": "dev_atomate2",
   "language": "python",
   "name": "python3"
  },
  "language_info": {
   "codemirror_mode": {
    "name": "ipython",
    "version": 3
   },
   "file_extension": ".py",
   "mimetype": "text/x-python",
   "name": "python",
   "nbconvert_exporter": "python",
   "pygments_lexer": "ipython3",
   "version": "3.12.4"
  }
 },
 "nbformat": 4,
 "nbformat_minor": 2
}
