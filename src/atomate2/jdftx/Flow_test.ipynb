{
 "cells": [
  {
   "cell_type": "code",
   "execution_count": null,
   "metadata": {},
   "outputs": [],
   "source": [
    "from __future__ import annotations\n",
    "\n",
    "from dataclasses import dataclass, field\n",
    "\n",
    "from jobflow import Maker\n",
    "\n",
    "from atomate2.jdftx.jobs.core import BEASTRelaxMaker"
   ]
  },
  {
   "cell_type": "code",
   "execution_count": null,
   "metadata": {},
   "outputs": [],
   "source": [
    "@dataclass\n",
    "class StartMaker(Maker):\n",
    "    relax_maker1: Maker = field(default_factory=BEASTRelaxMaker)\n",
    "\n",
    "    def make(self, structure):\n",
    "        return self.relax_maker1.make(structure)"
   ]
  },
  {
   "cell_type": "code",
   "execution_count": null,
   "metadata": {},
   "outputs": [],
   "source": [
    "relax1 = StartMaker()"
   ]
  },
  {
   "cell_type": "code",
   "execution_count": null,
   "metadata": {},
   "outputs": [],
   "source": [
    "from pymatgen.core import Structure\n",
    "\n",
    "lattice = [\n",
    "    [3.8401979337, 0.00, 0.00],\n",
    "    [0.00, 3.8401979337, 0.00],\n",
    "    [0.00, 0.00, 3.8401979337],\n",
    "]\n",
    "species = [\"Sr\", \"Ti\", \"O\", \"O\", \"O\"]\n",
    "coords = [\n",
    "    [0.00, 0.00, 0.00],\n",
    "    [0.50, 0.50, 0.50],\n",
    "    [0.50, 0.50, 0.00],\n",
    "    [0.50, 0.00, 0.50],\n",
    "    [0.00, 0.50, 0.50],\n",
    "]\n",
    "structure = Structure(lattice, species, coords)"
   ]
  },
  {
   "cell_type": "code",
   "execution_count": null,
   "metadata": {},
   "outputs": [],
   "source": [
    "relax = relax1.make(structure)"
   ]
  }
 ],
 "metadata": {
  "language_info": {
   "codemirror_mode": {
    "name": "ipython",
    "version": 3
   },
   "file_extension": ".py",
   "mimetype": "text/x-python",
   "name": "python",
   "nbconvert_exporter": "python",
   "pygments_lexer": "ipython3",
   "version": "3.10.11"
  }
 },
 "nbformat": 4,
 "nbformat_minor": 2
}
